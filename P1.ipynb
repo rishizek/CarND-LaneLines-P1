{
 "cells": [
  {
   "cell_type": "markdown",
   "metadata": {},
   "source": [
    "# **Finding Lane Lines on the Road** \n",
    "***\n",
    "In this project, you will use the tools you learned about in the lesson to identify lane lines on the road.  You can develop your pipeline on a series of individual images, and later apply the result to a video stream (really just a series of images). Check out the video clip \"raw-lines-example.mp4\" (also contained in this repository) to see what the output should look like after using the helper functions below. \n",
    "\n",
    "Once you have a result that looks roughly like \"raw-lines-example.mp4\", you'll need to get creative and try to average and/or extrapolate the line segments you've detected to map out the full extent of the lane lines.  You can see an example of the result you're going for in the video \"P1_example.mp4\".  Ultimately, you would like to draw just one line for the left side of the lane, and one for the right.\n",
    "\n",
    "---\n",
    "Let's have a look at our first image called 'test_images/solidWhiteRight.jpg'.  Run the 2 cells below (hit Shift-Enter or the \"play\" button above) to display the image.\n",
    "\n",
    "**Note** If, at any point, you encounter frozen display windows or other confounding issues, you can always start again with a clean slate by going to the \"Kernel\" menu above and selecting \"Restart & Clear Output\".\n",
    "\n",
    "---"
   ]
  },
  {
   "cell_type": "markdown",
   "metadata": {},
   "source": [
    "**The tools you have are color selection, region of interest selection, grayscaling, Gaussian smoothing, Canny Edge Detection and Hough Tranform line detection.  You  are also free to explore and try other techniques that were not presented in the lesson.  Your goal is piece together a pipeline to detect the line segments in the image, then average/extrapolate them and draw them onto the image for display (as below).  Once you have a working pipeline, try it out on the video stream below.**\n",
    "\n",
    "---\n",
    "\n",
    "<figure>\n",
    " <img src=\"line-segments-example.jpg\" width=\"380\" alt=\"Combined Image\" />\n",
    " <figcaption>\n",
    " <p></p> \n",
    " <p style=\"text-align: center;\"> Your output should look something like this (above) after detecting line segments using the helper functions below </p> \n",
    " </figcaption>\n",
    "</figure>\n",
    " <p></p> \n",
    "<figure>\n",
    " <img src=\"laneLines_thirdPass.jpg\" width=\"380\" alt=\"Combined Image\" />\n",
    " <figcaption>\n",
    " <p></p> \n",
    " <p style=\"text-align: center;\"> Your goal is to connect/average/extrapolate line segments to get output like this</p> \n",
    " </figcaption>\n",
    "</figure>"
   ]
  },
  {
   "cell_type": "code",
   "execution_count": null,
   "metadata": {},
   "outputs": [],
   "source": [
    "#importing some useful packages\n",
    "import matplotlib.pyplot as plt\n",
    "import matplotlib.image as mpimg\n",
    "import numpy as np\n",
    "import cv2\n",
    "%matplotlib inline"
   ]
  },
  {
   "cell_type": "code",
   "execution_count": null,
   "metadata": {},
   "outputs": [],
   "source": [
    "#reading in an image\n",
    "image = mpimg.imread('test_images/solidWhiteRight.jpg')\n",
    "#printing out some stats and plotting\n",
    "print('This image is:', type(image), 'with dimesions:', image.shape)\n",
    "plt.imshow(image)  # if you wanted to show a single color channel image called 'gray', for example, call as plt.imshow(gray, cmap='gray')"
   ]
  },
  {
   "cell_type": "markdown",
   "metadata": {},
   "source": [
    "**Some OpenCV functions (beyond those introduced in the lesson) that might be useful for this project are:**\n",
    "\n",
    "`cv2.inRange()` for color selection  \n",
    "`cv2.fillPoly()` for regions selection  \n",
    "`cv2.line()` to draw lines on an image given endpoints  \n",
    "`cv2.addWeighted()` to coadd / overlay two images\n",
    "`cv2.cvtColor()` to grayscale or change color\n",
    "`cv2.imwrite()` to output images to file  \n",
    "`cv2.bitwise_and()` to apply a mask to an image\n",
    "\n",
    "**Check out the OpenCV documentation to learn about these and discover even more awesome functionality!**"
   ]
  },
  {
   "cell_type": "markdown",
   "metadata": {},
   "source": [
    "Below are some helper functions to help get you started. They should look familiar from the lesson!"
   ]
  },
  {
   "cell_type": "code",
   "execution_count": null,
   "metadata": {},
   "outputs": [],
   "source": [
    "import math\n",
    "\n",
    "def grayscale(img):\n",
    "    \"\"\"Applies the Grayscale transform\n",
    "    This will return an image with only one color channel\n",
    "    but NOTE: to see the returned image as grayscale\n",
    "    (assuming your grayscaled image is called 'gray')\n",
    "    you should call plt.imshow(gray, cmap='gray')\"\"\"\n",
    "    return cv2.cvtColor(img, cv2.COLOR_RGB2GRAY)\n",
    "    # Or use BGR2GRAY if you read an image with cv2.imread()\n",
    "    # return cv2.cvtColor(img, cv2.COLOR_BGR2GRAY)\n",
    "    \n",
    "def canny(img, low_threshold, high_threshold):\n",
    "    \"\"\"Applies the Canny transform\"\"\"\n",
    "    return cv2.Canny(img, low_threshold, high_threshold)\n",
    "\n",
    "def gaussian_blur(img, kernel_size):\n",
    "    \"\"\"Applies a Gaussian Noise kernel\"\"\"\n",
    "    return cv2.GaussianBlur(img, (kernel_size, kernel_size), 0)\n",
    "\n",
    "def region_of_interest(img, vertices):\n",
    "    \"\"\"\n",
    "    Applies an image mask.\n",
    "    \n",
    "    Only keeps the region of the image defined by the polygon\n",
    "    formed from `vertices`. The rest of the image is set to black.\n",
    "    \"\"\"\n",
    "    #defining a blank mask to start with\n",
    "    mask = np.zeros_like(img)   \n",
    "    \n",
    "    #defining a 3 channel or 1 channel color to fill the mask with depending on the input image\n",
    "    if len(img.shape) > 2:\n",
    "        channel_count = img.shape[2]  # i.e. 3 or 4 depending on your image\n",
    "        ignore_mask_color = (255,) * channel_count\n",
    "    else:\n",
    "        ignore_mask_color = 255\n",
    "        \n",
    "    #filling pixels inside the polygon defined by \"vertices\" with the fill color    \n",
    "    cv2.fillPoly(mask, vertices, ignore_mask_color)\n",
    "    \n",
    "    #returning the image only where mask pixels are nonzero\n",
    "    masked_image = cv2.bitwise_and(img, mask)\n",
    "    return masked_image\n",
    "\n",
    "\n",
    "def draw_lines(img, lines, color=[255, 0, 0], thickness=15, debug_line = False):\n",
    "    \"\"\"\n",
    "    NOTE: this is the function you might want to use as a starting point once you want to \n",
    "    average/extrapolate the line segments you detect to map out the full\n",
    "    extent of the lane (going from the result shown in raw-lines-example.mp4\n",
    "    to that shown in P1_example.mp4).  \n",
    "    \n",
    "    Think about things like separating line segments by their \n",
    "    slope ((y2-y1)/(x2-x1)) to decide which segments are part of the left\n",
    "    line vs. the right line.  Then, you can average the position of each of \n",
    "    the lines and extrapolate to the top and bottom of the lane.\n",
    "    \n",
    "    This function draws `lines` with `color` and `thickness`.    \n",
    "    Lines are drawn on the image inplace (mutates the image).\n",
    "    If you want to make the lines semi-transparent, think about combining\n",
    "    this function with the weighted_img() function below\n",
    "    \"\"\"\n",
    "    if debug_line:\n",
    "        # draw original input lines without any modification\n",
    "        for line in lines:\n",
    "            for x1,y1,x2,y2 in line:\n",
    "                cv2.line(img, (x1, y1), (x2, y2), color, thickness)\n",
    "    else:\n",
    "        # draw lanes from input lines with extrapolating, averaging, and other tricks\n",
    "        fit_lefts = []; fit_rights = []\n",
    "        #weight_lefts = []; weight_rights = []\n",
    "        y2_min = image.shape[0]  # image shape[0] in mping.imread corresponds　y axis in cv2\n",
    "        for line in lines:\n",
    "            for x1,y1,x2,y2 in line:\n",
    "                if x2 != x1: # ignore holizontal line\n",
    "                    slope = -(y2-y1)/(x2-x1) # to align with our intuition set negative for slope formula\n",
    "                    #print(\"slope: \", slope)\n",
    "                    if (0.8 > slope > 0.4) and (max(x1, x2) < image.shape[1]/2.):  # increasing slope and left hand side\n",
    "                        fits = np.polyfit((x1, x2), (y1, y2), 1)\n",
    "                        if not any(np.isnan(fits)):\n",
    "                            fit_lefts.append(fits)\n",
    "                            #weight_lefts.append(np.sqrt(np.square(x1-x2) + np.square(y1-y2)))\n",
    "                    elif (-0.8 < slope < -0.4) and (min(x1, x2) > image.shape[1]/2.): # decreasing slope and right hand side\n",
    "                        fits = np.polyfit((x1, x2), (y1, y2), 1)\n",
    "                        if not any(np.isnan(fits)):\n",
    "                            fit_rights.append(fits)\n",
    "                            #weight_rights.append(np.sqrt(np.square(x1-x2) + np.square(y1-y2)))\n",
    "                    if y2_min > y2: \n",
    "                        y2_min = y2\n",
    "\n",
    "        # remove outliers based on slope\n",
    "        def reject_outliers(data, m = 1.1):\n",
    "            if len(data) == 1:\n",
    "                return data\n",
    "            slopes = data[:, 0]\n",
    "            d = np.abs(slopes - np.median(slopes))\n",
    "            mdev = np.median(d)\n",
    "            s = d/mdev if mdev else 0.\n",
    "            if type(s).__module__ == np.__name__: # if s is numpy array\n",
    "                return data[s<m]\n",
    "            else:\n",
    "                return data\n",
    "\n",
    "        # draw left lane\n",
    "        if len(fit_lefts) > 0:\n",
    "            #fit_left = np.average(np.array(fit_lefts), axis=0, weights=weight_lefts)\n",
    "            fit_left = np.average(reject_outliers(np.array(fit_lefts)), axis=0)\n",
    "            if not np.isnan((y1 - fit_left[1]) / fit_left[0]):\n",
    "                y1 = img.shape[0]; x1 = int((y1 - fit_left[1]) / fit_left[0])\n",
    "                y2 = y2_min; x2 = int((y2 - fit_left[1]) / fit_left[0])\n",
    "                if (abs(fit_left[0]) > 1e-5): # exclude when slope is very small \n",
    "                    cv2.line(img, (x1, y1), (x2, y2), color, thickness)\n",
    "\n",
    "        # draw right lane\n",
    "        if len(fit_rights) > 0:\n",
    "            #fit_right = np.average(np.array(fit_rights), axis=0, weights=weight_rights)\n",
    "            fit_right = np.average(reject_outliers(np.array(fit_rights)), axis=0)\n",
    "            if not np.isnan((y1 - fit_right[1]) / fit_right[0]):\n",
    "                y1 = img.shape[0]; x1 = int((y1 - fit_right[1]) / fit_right[0])\n",
    "                y2 = y2_min; x2 = int((y2 - fit_right[1]) / fit_right[0])\n",
    "                if (abs(fit_right[0]) > 1e-5): # exclude when slope is very small \n",
    "                    cv2.line(img, (x1, y1), (x2, y2), color, thickness)\n",
    "\n",
    "\n",
    "def hough_lines(img, rho, theta, threshold, min_line_len, max_line_gap, debug_line=False):\n",
    "    \"\"\"\n",
    "    `img` should be the output of a Canny transform.\n",
    "        \n",
    "    Returns an image with hough lines drawn.\n",
    "    \"\"\"\n",
    "    lines = cv2.HoughLinesP(img, rho, theta, threshold, np.array([]), minLineLength=min_line_len, maxLineGap=max_line_gap)\n",
    "    line_img = np.zeros((img.shape[0], img.shape[1], 3), dtype=np.uint8)\n",
    "    draw_lines(line_img, lines, debug_line=debug_line)\n",
    "    return line_img\n",
    "\n",
    "# Python 3 has support for cool math symbols.\n",
    "\n",
    "def weighted_img(img, initial_img, α=0.8, β=1., λ=0.):\n",
    "    \"\"\"\n",
    "    `img` is the output of the hough_lines(), An image with lines drawn on it.\n",
    "    Should be a blank image (all black) with lines drawn on it.\n",
    "    \n",
    "    `initial_img` should be the image before any processing.\n",
    "    \n",
    "    The result image is computed as follows:\n",
    "    \n",
    "    initial_img * α + img * β + λ\n",
    "    NOTE: initial_img and img must be the same shape!\n",
    "    \"\"\"\n",
    "    return cv2.addWeighted(initial_img, α, img, β, λ)"
   ]
  },
  {
   "cell_type": "markdown",
   "metadata": {},
   "source": [
    "## Test on Images\n",
    "\n",
    "Now you should build your pipeline to work on the images in the directory \"test_images\"  \n",
    "**You should make sure your pipeline works well on these images before you try the videos.**"
   ]
  },
  {
   "cell_type": "code",
   "execution_count": null,
   "metadata": {},
   "outputs": [],
   "source": [
    "import os\n",
    "os.listdir(\"test_images/\")"
   ]
  },
  {
   "cell_type": "markdown",
   "metadata": {},
   "source": [
    "run your solution on all test_images and make copies into the test_images directory)."
   ]
  },
  {
   "cell_type": "code",
   "execution_count": null,
   "metadata": {},
   "outputs": [],
   "source": [
    "# TODO: Build your pipeline that will draw lane lines on the test_images\n",
    "# then save them to the test_images directory.\n",
    "\n",
    "def find_lane_lines(initial_img, kernel_size=5, low_threshold=50, high_threshold=150,\n",
    "                   vertices=np.array([], dtype=np.int32).any(), rho=2, theta=np.pi/180, threshold=15,\n",
    "                   min_line_len=40, max_line_gap=20, α=0.8, β=1., λ=0.,\n",
    "                    debug_check=False, show_initial_img=False, debug_line=False):\n",
    "    # Read in and grayscale the image\n",
    "    gray = grayscale(initial_img)\n",
    "    # Apply Gaussian smoothing\n",
    "    blur_gray = gaussian_blur(gray, kernel_size)\n",
    "    # Applies the Canny transform\n",
    "    edges = canny(blur_gray, low_threshold, high_threshold)\n",
    "    # Create a masked edges image\n",
    "    if not vertices.any():\n",
    "        imshape = initial_img.shape\n",
    "        vertices = np.array([[(0,imshape[0]),(0, 0), (imshape[1], 0), \n",
    "                              (imshape[1],imshape[0])]], dtype=np.int32)\n",
    "        vertices = np.array([[(0, imshape[0]),(imshape[1]/3., imshape[0]*2/3.), \n",
    "                                              (imshape[1]*2/3., imshape[0]*2/3.), (imshape[1],imshape[0])]], dtype=np.int32)\n",
    "    masked_edges = region_of_interest(edges, vertices)\n",
    "                              \n",
    "    # Create an image with hough lines drawn\n",
    "    line_image = hough_lines(masked_edges, rho, theta, threshold, min_line_len, \n",
    "                             max_line_gap, debug_line=debug_line)\n",
    "    \n",
    "    lane_image = weighted_img(line_image, initial_img, α=α, β=β, λ=λ)\n",
    "\n",
    "    if debug_check:\n",
    "        channel_count = initial_img.shape[2]\n",
    "        color_edges = np.dstack((edges for i in range(channel_count)))\n",
    "        lines_edges = weighted_img(line_image, color_edges, α=α, β=β, λ=λ)\n",
    "        fig, axs = plt.subplots(1, 2, figsize=(13, 8))\n",
    "        axs[0].imshow(lines_edges)\n",
    "        if show_initial_img:\n",
    "            axs[1].imshow(initial_img)\n",
    "        else:\n",
    "            axs[1].imshow(lane_image)\n",
    "        plt.show()\n",
    "\n",
    "    return lane_image"
   ]
  },
  {
   "cell_type": "code",
   "execution_count": null,
   "metadata": {},
   "outputs": [],
   "source": [
    "dirname = 'test_images'\n",
    "\n",
    "kernel_size=5 # kernel size for Gaussian smoothing\n",
    "low_threshold=50 # low threshold for Canny and apply\n",
    "high_threshold=150 # high threshold for Canny and apply\n",
    "vertices= np.array([], dtype=np.int32).any() # defining a four sided polygon to mask\n",
    "#vertices = np.array([[(0, 540),(440, 330), (500, 320), (960,540)]], dtype=np.int32)\n",
    "#vertices = np.array([[(100, 540),(440, 330), (500, 330), (960,540)]], dtype=np.int32)\n",
    "rho = 1 #1 # distance resolution in pixels of the Hough grid\n",
    "theta = np.pi/180 # angular resolution in radians of the Hough grid\n",
    "threshold = 2 #10     # minimum number of votes (intersections in Hough grid cell)\n",
    "min_line_len = 20 #50 #minimum number of pixels making up a line\n",
    "max_line_gap = 6 #6    # maximum gap in pixels between connectable line segments\n",
    "α=0.8 # make the lines semi-transparent\n",
    "β=1. # make the inital image semi-transparent\n",
    "λ=0. # make the lines and initial image semi-transparent\n",
    "\n",
    "for fname in os.listdir(dirname):\n",
    "    print(fname, end=' ')\n",
    "    image = mpimg.imread(os.path.join(dirname, fname))\n",
    "    print(image.shape)\n",
    "    image_with_lanes = find_lane_lines(image, kernel_size=kernel_size, low_threshold=low_threshold, high_threshold=high_threshold, \n",
    "                                                                    vertices=vertices, rho=rho, theta=theta, threshold=threshold, \n",
    "                                                                    min_line_len=min_line_len, max_line_gap=max_line_gap, α=α, β=β, λ=λ, \n",
    "                                                                    debug_check=True, show_initial_img=False, debug_line=False)\n",
    "    mpimg.imsave(os.path.join(dirname, fname.split('.')[0] + \"_with_lanes.jpg\"), image_with_lanes) # save result"
   ]
  },
  {
   "cell_type": "markdown",
   "metadata": {},
   "source": [
    "## Test on Videos\n",
    "\n",
    "You know what's cooler than drawing lanes over images? Drawing lanes over video!\n",
    "\n",
    "We can test our solution on two provided videos:\n",
    "\n",
    "`solidWhiteRight.mp4`\n",
    "\n",
    "`solidYellowLeft.mp4`"
   ]
  },
  {
   "cell_type": "code",
   "execution_count": null,
   "metadata": {},
   "outputs": [],
   "source": [
    "# Import everything needed to edit/save/watch video clips\n",
    "from moviepy.editor import VideoFileClip\n",
    "from IPython.display import HTML"
   ]
  },
  {
   "cell_type": "code",
   "execution_count": null,
   "metadata": {},
   "outputs": [],
   "source": [
    "def process_image(image):\n",
    "    # NOTE: The output you return should be a color image (3 channel) for processing video below\n",
    "    # TODO: put your pipeline here,\n",
    "    # you should return the final output (image with lines are drawn on lanes)\n",
    "    result = find_lane_lines(image, kernel_size=kernel_size, low_threshold=low_threshold, high_threshold=high_threshold, \n",
    "                        vertices=vertices, rho=rho, theta=theta, threshold=threshold, \n",
    "                        min_line_len=min_line_len, max_line_gap=max_line_gap, α=α, β=β, λ=λ)\n",
    "    return result"
   ]
  },
  {
   "cell_type": "markdown",
   "metadata": {},
   "source": [
    "Let's try the one with the solid white lane on the right first ..."
   ]
  },
  {
   "cell_type": "code",
   "execution_count": null,
   "metadata": {},
   "outputs": [],
   "source": [
    "white_output = 'white.mp4'\n",
    "clip1 = VideoFileClip(\"solidWhiteRight.mp4\")\n",
    "white_clip = clip1.fl_image(process_image) #NOTE: this function expects color images!!\n",
    "%time white_clip.write_videofile(white_output, audio=False)"
   ]
  },
  {
   "cell_type": "markdown",
   "metadata": {},
   "source": [
    "Play the video inline, or if you prefer find the video in your filesystem (should be in the same directory) and play it in your video player of choice."
   ]
  },
  {
   "cell_type": "code",
   "execution_count": null,
   "metadata": {},
   "outputs": [],
   "source": [
    "HTML(\"\"\"\n",
    "<video width=\"960\" height=\"540\" controls>\n",
    "  <source src=\"{0}\">\n",
    "</video>\n",
    "\"\"\".format(white_output))"
   ]
  },
  {
   "cell_type": "markdown",
   "metadata": {},
   "source": [
    "**At this point, if you were successful you probably have the Hough line segments drawn onto the road, but what about identifying the full extent of the lane and marking it clearly as in the example video (P1_example.mp4)?  Think about defining a line to run the full length of the visible lane based on the line segments you identified with the Hough Transform.  Modify your draw_lines function accordingly and try re-running your pipeline.**"
   ]
  },
  {
   "cell_type": "markdown",
   "metadata": {},
   "source": [
    "Now for the one with the solid yellow lane on the left. This one's more tricky!"
   ]
  },
  {
   "cell_type": "code",
   "execution_count": null,
   "metadata": {},
   "outputs": [],
   "source": [
    "yellow_output = 'yellow.mp4'\n",
    "clip2 = VideoFileClip('solidYellowLeft.mp4')\n",
    "yellow_clip = clip2.fl_image(process_image)\n",
    "%time yellow_clip.write_videofile(yellow_output, audio=False)"
   ]
  },
  {
   "cell_type": "code",
   "execution_count": null,
   "metadata": {},
   "outputs": [],
   "source": [
    "HTML(\"\"\"\n",
    "<video width=\"960\" height=\"540\" controls>\n",
    "  <source src=\"{0}\">\n",
    "</video>\n",
    "\"\"\".format(yellow_output))"
   ]
  },
  {
   "cell_type": "markdown",
   "metadata": {},
   "source": [
    "## Reflections\n",
    "\n",
    "Congratulations on finding the lane lines!  As the final step in this project, we would like you to share your thoughts on your lane finding pipeline... specifically, how could you imagine making your algorithm better / more robust?  Where will your current algorithm be likely to fail?\n",
    "\n",
    "Please add your thoughts below,  and if you're up for making your pipeline more robust, be sure to scroll down and check out the optional challenge video below!\n"
   ]
  },
  {
   "cell_type": "markdown",
   "metadata": {},
   "source": [
    "## Submission\n",
    "\n",
    "If you're satisfied with your video outputs it's time to submit!  Submit this ipython notebook for review.\n"
   ]
  },
  {
   "cell_type": "markdown",
   "metadata": {},
   "source": [
    "## Optional Challenge\n",
    "\n",
    "Try your lane finding pipeline on the video below.  Does it still work?  Can you figure out a way to make it more robust?  If you're up for the challenge, modify your pipeline so it works with this video and submit it along with the rest of your project!"
   ]
  },
  {
   "cell_type": "code",
   "execution_count": null,
   "metadata": {},
   "outputs": [],
   "source": [
    "challenge_output = 'extra.mp4'\n",
    "clip2 = VideoFileClip('challenge.mp4')\n",
    "challenge_clip = clip2.fl_image(process_image)\n",
    "%time challenge_clip.write_videofile(challenge_output, audio=False)"
   ]
  },
  {
   "cell_type": "code",
   "execution_count": null,
   "metadata": {},
   "outputs": [],
   "source": [
    "HTML(\"\"\"\n",
    "<video width=\"960\" height=\"540\" controls>\n",
    "  <source src=\"{0}\">\n",
    "</video>\n",
    "\"\"\".format(challenge_output))"
   ]
  },
  {
   "cell_type": "code",
   "execution_count": null,
   "metadata": {},
   "outputs": [],
   "source": []
  }
 ],
 "metadata": {
  "anaconda-cloud": {},
  "kernelspec": {
   "display_name": "Python [conda root]",
   "language": "python",
   "name": "conda-root-py"
  },
  "language_info": {
   "codemirror_mode": {
    "name": "ipython",
    "version": 3
   },
   "file_extension": ".py",
   "mimetype": "text/x-python",
   "name": "python",
   "nbconvert_exporter": "python",
   "pygments_lexer": "ipython3"
  }
 },
 "nbformat": 4,
 "nbformat_minor": 0
}
